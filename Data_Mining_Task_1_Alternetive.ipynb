{
  "nbformat": 4,
  "nbformat_minor": 0,
  "metadata": {
    "colab": {
      "provenance": []
    },
    "kernelspec": {
      "name": "python3",
      "display_name": "Python 3"
    },
    "language_info": {
      "name": "python"
    }
  },
  "cells": [
    {
      "cell_type": "code",
      "execution_count": 9,
      "metadata": {
        "colab": {
          "base_uri": "https://localhost:8080/"
        },
        "id": "EkCxPK_vCUSt",
        "outputId": "b8563a28-276e-4998-93e7-fe413ab14ba5"
      },
      "outputs": [
        {
          "output_type": "stream",
          "name": "stdout",
          "text": [
            "Enter a string: amaama\n",
            "The entered string is symmetrical:  True\n",
            "The entered string is palindrome:  True\n"
          ]
        }
      ],
      "source": [
        "def is_symmetric(string):\n",
        "\n",
        "  reversed_string = string[::-1]\n",
        "  return string == reversed_string\n",
        "\n",
        "def is_palindrome(string):\n",
        "\n",
        "  return is_symmetric(string.lower())\n",
        "\n",
        "def main():\n",
        "\n",
        "  string = input(\"Enter a string: \")\n",
        "  print(\"The entered string is symmetrical: \", is_symmetric(string))\n",
        "  print(\"The entered string is palindrome: \", is_palindrome(string))\n",
        "\n",
        "\n",
        "if __name__ == \"__main__\":\n",
        "  main()\n"
      ]
    },
    {
      "cell_type": "code",
      "source": [
        "def reverse_words(string):\n",
        "\n",
        "  words = string.split(\" \")\n",
        "  reversed_words = words[::-1]\n",
        "  reversed_string = \" \".join(reversed_words)\n",
        "  return reversed_string\n",
        "\n",
        "\n",
        "if __name__ == \"__main__\":\n",
        "  string = \"my name is laxmi\"\n",
        "  reversed_string = reverse_words(string)\n",
        "  print(reversed_string)\n"
      ],
      "metadata": {
        "colab": {
          "base_uri": "https://localhost:8080/"
        },
        "id": "PZr9I6kfC92r",
        "outputId": "2f5349db-4b95-4fea-e8ec-da9a46fbeeaa"
      },
      "execution_count": 4,
      "outputs": [
        {
          "output_type": "stream",
          "name": "stdout",
          "text": [
            "laxmi is name my\n"
          ]
        }
      ]
    },
    {
      "cell_type": "code",
      "source": [
        "def remove_letters(string, remove_list):\n",
        "\n",
        "  new_string = \"\"\n",
        "  for char in string:\n",
        "    if char not in remove_list:\n",
        "      new_string += char\n",
        "\n",
        "  return new_string\n",
        "\n",
        "if __name__ == \"__main__\":\n",
        "  string = \"Hello123World123Friends\"\n",
        "  remove_list = [\"1\", \"2\", \"3\"]\n",
        "  new_string = remove_letters(string, remove_list)\n",
        "  print(new_string)\n",
        "\n"
      ],
      "metadata": {
        "colab": {
          "base_uri": "https://localhost:8080/"
        },
        "id": "gORmfAVQDqVo",
        "outputId": "0a7166f1-e39f-4a0a-8a3d-f9666cbeb48f"
      },
      "execution_count": 5,
      "outputs": [
        {
          "output_type": "stream",
          "name": "stdout",
          "text": [
            "HelloWorldFriends\n"
          ]
        }
      ]
    },
    {
      "cell_type": "code",
      "source": [
        "def uppercase_half_string(string):\n",
        "\n",
        "  half_length = len(string) // 2\n",
        "  uppercased_string = string[:half_length].upper() + string[half_length:].lower()\n",
        "  return uppercased_string\n",
        "\n",
        "if __name__ == \"__main__\":\n",
        "  string = \"helloworldfriend\"\n",
        "  uppercased_string = uppercase_half_string(string)\n",
        "  print(uppercased_string)\n"
      ],
      "metadata": {
        "colab": {
          "base_uri": "https://localhost:8080/"
        },
        "id": "z1j5S581Egq_",
        "outputId": "6d3a4a05-eefe-4000-aa9b-20052d0bbed3"
      },
      "execution_count": 11,
      "outputs": [
        {
          "output_type": "stream",
          "name": "stdout",
          "text": [
            "HELLOWORldfriend\n"
          ]
        }
      ]
    },
    {
      "cell_type": "code",
      "source": [
        "def capitalize_first_and_last_character(string):\n",
        "\n",
        "  words = string.split(\" \")\n",
        "  capitalized_words = []\n",
        "  for word in words:\n",
        "    first_letter = word[0].upper()\n",
        "    last_letter = word[-1].upper()\n",
        "    capitalized_word = first_letter + word[1:-1] + last_letter\n",
        "    capitalized_words.append(capitalized_word)\n",
        "\n",
        "  capitalized_string = \" \".join(capitalized_words)\n",
        "  return capitalized_string\n",
        "\n",
        "\n",
        "if __name__ == \"__main__\":\n",
        "  string = \"hello world\"\n",
        "  capitalized_string = capitalize_first_and_last_character(string)\n",
        "  print(capitalized_string)\n"
      ],
      "metadata": {
        "id": "jJD1okVxJyKe",
        "outputId": "bf53f926-cb1f-4746-89ec-dd89ea0cbff9",
        "colab": {
          "base_uri": "https://localhost:8080/"
        }
      },
      "execution_count": 12,
      "outputs": [
        {
          "output_type": "stream",
          "name": "stdout",
          "text": [
            "HellO WorlD\n"
          ]
        }
      ]
    }
  ]
}