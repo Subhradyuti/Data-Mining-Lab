{
  "nbformat": 4,
  "nbformat_minor": 0,
  "metadata": {
    "colab": {
      "provenance": []
    },
    "kernelspec": {
      "name": "python3",
      "display_name": "Python 3"
    },
    "language_info": {
      "name": "python"
    }
  },
  "cells": [
    {
      "cell_type": "markdown",
      "source": [
        "DATA MINING PCA1\n",
        "\n",
        "SUBHRADYUTI JANA"
      ],
      "metadata": {
        "id": "c3WA60LMV6OV"
      }
    },
    {
      "cell_type": "markdown",
      "source": [
        "1. (c)"
      ],
      "metadata": {
        "id": "9ik1u3IlYMHj"
      }
    },
    {
      "cell_type": "code",
      "execution_count": null,
      "metadata": {
        "id": "sUVUkBI9Vz5d"
      },
      "outputs": [],
      "source": [
        "def execmain():\n",
        "  x=input(\"Enter a number:\")\n",
        "  if(abs(x)==x):\n",
        "    print(\"You entered a positive number:\")\n",
        "  else:\n",
        "    x*=-1\n",
        "    print(\"Number made positive:\"),x\n",
        "  execmain()"
      ]
    },
    {
      "cell_type": "markdown",
      "source": [
        "1. (D)"
      ],
      "metadata": {
        "id": "qullItQbauIT"
      }
    },
    {
      "cell_type": "code",
      "source": [
        "L1 = [100,900,300,400,500]\n",
        "START = 1\n",
        "SUM = 0\n",
        "for C in range(START,4):\n",
        "  SUM = SUM + L1[C]\n",
        "  print(C, \":\", SUM)\n",
        "SUM= SUM + L1[0]*10\n",
        "print(SUM)"
      ],
      "metadata": {
        "colab": {
          "base_uri": "https://localhost:8080/"
        },
        "id": "KiFIh8nbZUMr",
        "outputId": "4e21fe65-ca76-4379-c8fe-e1a177c2114a"
      },
      "execution_count": null,
      "outputs": [
        {
          "output_type": "stream",
          "name": "stdout",
          "text": [
            "1 : 900\n",
            "2 : 1200\n",
            "3 : 1600\n",
            "2600\n"
          ]
        }
      ]
    },
    {
      "cell_type": "markdown",
      "source": [
        "1.(e)"
      ],
      "metadata": {
        "id": "nfTrIPOEdJv8"
      }
    },
    {
      "cell_type": "code",
      "source": [
        "def ChangeList():\n",
        "    L = []\n",
        "    L1 = []\n",
        "    L2 = []\n",
        "\n",
        "    for i in range(1, 10):\n",
        "        L.append(i)\n",
        "\n",
        "    for i in range(10, 1, -2):\n",
        "        L1.append(i)\n",
        "\n",
        "    for i in range(len(L1)):\n",
        "        L2.append(L1[i] + L[i])\n",
        "\n",
        "    L2.append(len(L) - len(L1))\n",
        "    print(L2)\n",
        "\n",
        "ChangeList()"
      ],
      "metadata": {
        "colab": {
          "base_uri": "https://localhost:8080/"
        },
        "id": "INGxyQc3cZIo",
        "outputId": "95ceb30d-603c-4060-9cbf-3f731f209891"
      },
      "execution_count": null,
      "outputs": [
        {
          "output_type": "stream",
          "name": "stdout",
          "text": [
            "[11, 10, 9, 8, 7, 4]\n"
          ]
        }
      ]
    },
    {
      "cell_type": "markdown",
      "source": [
        "2"
      ],
      "metadata": {
        "id": "K4Mrw9dKlMe1"
      }
    },
    {
      "cell_type": "code",
      "source": [
        "def remove_duplicate(lst:list):\n",
        "  dic={}\n",
        "  for i in lst:\n",
        "    if i not in dic.keys():\n",
        "      dic[i]=1\n",
        "    else:\n",
        "      dic[i]+=1\n",
        "  new_lst=[i for i in dic.keys() if dic[i]==1]\n",
        "  print(f\"Find list:{new_lst}\")\n"
      ],
      "metadata": {
        "id": "KpMomaAPlN30"
      },
      "execution_count": null,
      "outputs": []
    },
    {
      "cell_type": "code",
      "source": [
        "remove_duplicate([1,1,2,3,4,5,1,2,1])"
      ],
      "metadata": {
        "colab": {
          "base_uri": "https://localhost:8080/"
        },
        "id": "51pFbdHiroHk",
        "outputId": "5668b749-57cb-4a38-9fe1-d75464a638ab"
      },
      "execution_count": null,
      "outputs": [
        {
          "output_type": "stream",
          "name": "stdout",
          "text": [
            "Find list:[3, 4, 5]\n"
          ]
        }
      ]
    },
    {
      "cell_type": "markdown",
      "source": [
        "3"
      ],
      "metadata": {
        "id": "YR7T_YtcdlFq"
      }
    },
    {
      "cell_type": "code",
      "source": [
        "def extract_words_starting_with_k(test_list, k):\n",
        "\n",
        "  results = []\n",
        "  for string in test_list:\n",
        "    for word in string.split():\n",
        "      if word.startswith(k):\n",
        "        results.append(word)\n",
        "  return results\n",
        "\n",
        "\n",
        "test_list = [\"Python is good for learning\", \"This is for me\", \"I love cakes\"]\n",
        "k = \"l\"\n",
        "\n",
        "print(extract_words_starting_with_k(test_list, k))"
      ],
      "metadata": {
        "colab": {
          "base_uri": "https://localhost:8080/"
        },
        "id": "uUKN9B4CdNoz",
        "outputId": "30345228-c26f-4a8c-fbef-e6158e89af59"
      },
      "execution_count": null,
      "outputs": [
        {
          "output_type": "stream",
          "name": "stdout",
          "text": [
            "['learning', 'love']\n"
          ]
        }
      ]
    },
    {
      "cell_type": "markdown",
      "source": [
        "4"
      ],
      "metadata": {
        "id": "TZTD0nGZh_3D"
      }
    },
    {
      "cell_type": "code",
      "source": [
        "def reverse_strings_in_list(string_list):\n",
        "    reversed_list = []\n",
        "\n",
        "    for string in string_list:\n",
        "        reversed_string = string[::-1]\n",
        "        reversed_list.append(reversed_string)\n",
        "\n",
        "    return reversed_list\n",
        "\n",
        "input_list = ['I', 'have', 'been', 'to', 'school']\n",
        "output_list = reverse_strings_in_list(input_list)\n",
        "print(output_list)"
      ],
      "metadata": {
        "colab": {
          "base_uri": "https://localhost:8080/"
        },
        "id": "x37HWKzohyUs",
        "outputId": "45279297-8055-4879-8262-f9c5b4eee1ef"
      },
      "execution_count": null,
      "outputs": [
        {
          "output_type": "stream",
          "name": "stdout",
          "text": [
            "['I', 'evah', 'neeb', 'ot', 'loohcs']\n"
          ]
        }
      ]
    },
    {
      "cell_type": "markdown",
      "source": [
        "5"
      ],
      "metadata": {
        "id": "qPC4QzosiZJj"
      }
    },
    {
      "cell_type": "code",
      "source": [
        "from collections import Counter\n",
        "test_dict = {'Manjeet': [1],'Akash': [1, 8, 9]}\n",
        "cnt = Counter()\n",
        "for idx in test_dict.values():\n",
        "    cnt.update(idx)\n",
        "res = {idx: [key for key in j if cnt[key] == 1]\n",
        "       for idx, j in test_dict.items()}\n",
        "print(\"After removing duplicate values \" + str(res))"
      ],
      "metadata": {
        "colab": {
          "base_uri": "https://localhost:8080/"
        },
        "id": "yGmjSaUpiaQL",
        "outputId": "f99ba28c-6f87-4fa2-f475-be1723564827"
      },
      "execution_count": null,
      "outputs": [
        {
          "output_type": "stream",
          "name": "stdout",
          "text": [
            "After removing duplicate values {'Manjeet': [], 'Akash': [8, 9]}\n"
          ]
        }
      ]
    },
    {
      "cell_type": "markdown",
      "source": [
        "6"
      ],
      "metadata": {
        "id": "8xRxOxugmM6s"
      }
    },
    {
      "cell_type": "code",
      "source": [
        "\n",
        "n = int(input(\"Enter the value of 'n': \"))\n",
        "\n",
        "fibonacci_series = [0, 1]\n",
        "\n",
        "while fibonacci_series[-1] + fibonacci_series[-2] <= n:\n",
        "    next_number = fibonacci_series[-1] + fibonacci_series[-2]\n",
        "    fibonacci_series.append(next_number)\n",
        "\n",
        "print(\"Fibonacci Series up to\", n, \":\", fibonacci_series)"
      ],
      "metadata": {
        "colab": {
          "base_uri": "https://localhost:8080/"
        },
        "id": "c-uanKibmvgM",
        "outputId": "0102d4ba-be23-4d24-bb65-48fa3e601a13"
      },
      "execution_count": null,
      "outputs": [
        {
          "output_type": "stream",
          "name": "stdout",
          "text": [
            "Enter the value of 'n': 20\n",
            "Fibonacci Series up to 20 : [0, 1, 1, 2, 3, 5, 8, 13]\n"
          ]
        }
      ]
    }
  ]
}