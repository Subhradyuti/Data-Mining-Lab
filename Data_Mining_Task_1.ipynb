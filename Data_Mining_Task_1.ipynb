{
  "nbformat": 4,
  "nbformat_minor": 0,
  "metadata": {
    "colab": {
      "provenance": []
    },
    "kernelspec": {
      "name": "python3",
      "display_name": "Python 3"
    },
    "language_info": {
      "name": "python"
    }
  },
  "cells": [
    {
      "cell_type": "code",
      "execution_count": 2,
      "metadata": {
        "colab": {
          "base_uri": "https://localhost:8080/"
        },
        "id": "CQG8bSa8dN70",
        "outputId": "02382131-271f-41c3-96fb-843cfd24fe26"
      },
      "outputs": [
        {
          "output_type": "stream",
          "name": "stdout",
          "text": [
            "khokho string is symmetrical\n",
            "khokho string is not palindrome\n"
          ]
        }
      ],
      "source": [
        "string = 'amaama'\n",
        "half = int(len(string) / 2)\n",
        "\n",
        "\n",
        "first_str = string[:half]\n",
        "second_str = string[half:]\n",
        "\n",
        "\n",
        "# symmetric\n",
        "if first_str == second_str:\n",
        "\tprint(string, 'string is symmetrical')\n",
        "else:\n",
        "\tprint(string, 'string is not symmetrical')\n",
        "\n",
        "# palindrome\n",
        "if first_str == second_str[::-1]: # ''.join(reversed(second_str)) [slower]\n",
        "\tprint(string, 'string is palindrome')\n",
        "else:\n",
        "\tprint(string, 'string is not palindrome')\n"
      ]
    },
    {
      "cell_type": "code",
      "source": [
        "# To reverse words in a given string\n",
        "\n",
        "# input string\n",
        "string = \"my name is laxmi\"\n",
        "# reversing words in a given string\n",
        "s = string.split()[::-1]\n",
        "l = []\n",
        "for i in s:\n",
        "\t# appending reversed words to l\n",
        "\tl.append(i)\n",
        "# printing reverse words\n",
        "print(\" \".join(l))\n"
      ],
      "metadata": {
        "colab": {
          "base_uri": "https://localhost:8080/"
        },
        "id": "ux_ouQCHdsEK",
        "outputId": "bdd6e50b-2afb-44f7-d056-d4bfe0f453e8"
      },
      "execution_count": 3,
      "outputs": [
        {
          "output_type": "stream",
          "name": "stdout",
          "text": [
            "laxmi is name my\n"
          ]
        }
      ]
    },
    {
      "cell_type": "code",
      "source": [
        "#Remove Letters From a String in Python.\n",
        "str1 = 'I123am123Rick'\n",
        "\n",
        "print(str.translate({ord(i): None for i in '123'}))"
      ],
      "metadata": {
        "colab": {
          "base_uri": "https://localhost:8080/"
        },
        "id": "9h6vCeoRd6qe",
        "outputId": "15503bf0-d8ed-4907-b737-5e6c88d8f15a"
      },
      "execution_count": 16,
      "outputs": [
        {
          "output_type": "stream",
          "name": "stdout",
          "text": [
            "IamRick\n"
          ]
        }
      ]
    },
    {
      "cell_type": "code",
      "source": [
        "def upper_later_part(test_str):\n",
        "\n",
        "  # Get the length of the string.\n",
        "  str_len = len(test_str)\n",
        "\n",
        "  # Get the index of the middle of the string.\n",
        "  mid_idx = str_len // 2\n",
        "\n",
        "  # Uppercase the characters from the middle of the string to the end.\n",
        "  upper_part = test_str[mid_idx:].upper()\n",
        "\n",
        "  # Combine the lowercase first half of the string with the uppercased second half.\n",
        "  new_str = test_str[:mid_idx] + upper_part\n",
        "\n",
        "  return new_str\n",
        "\n",
        "\n",
        "if __name__ == \"__main__\":\n",
        "  # Test the function.\n",
        "  test_str = \"helloworldfriend\"\n",
        "  new_str = upper_later_part(test_str)\n",
        "  print(new_str)\n",
        "\n"
      ],
      "metadata": {
        "colab": {
          "base_uri": "https://localhost:8080/"
        },
        "id": "QCvbRYPheykg",
        "outputId": "5827ccd6-8e59-4d6f-d052-8b50e560e957"
      },
      "execution_count": 21,
      "outputs": [
        {
          "output_type": "stream",
          "name": "stdout",
          "text": [
            "helloworLDFRIEND\n"
          ]
        }
      ]
    },
    {
      "cell_type": "code",
      "source": [
        "# Python program to capitalize\n",
        "# first and last character of\n",
        "# each word of a String\n",
        "\n",
        "\n",
        "# Function to do the same\n",
        "def word_both_cap(str):\n",
        "\n",
        "\t# lambda function for capitalizing the\n",
        "\t# first and last letter of words in\n",
        "\t# the string\n",
        "\treturn ' '.join(map(lambda s: s[:-1]+s[-1].upper(),\n",
        "\t\t\t\t\t\ts.title().split()))\n",
        "\n",
        "\n",
        "# Driver's code\n",
        "s = \"hello world \"\n",
        "print(\"String before:\", s)\n",
        "print(\"String after:\", word_both_cap(str))\n"
      ],
      "metadata": {
        "colab": {
          "base_uri": "https://localhost:8080/"
        },
        "id": "Tn1HThRJkFLU",
        "outputId": "dd73dfd6-72c1-4ab1-f5aa-88d791bede2a"
      },
      "execution_count": 23,
      "outputs": [
        {
          "output_type": "stream",
          "name": "stdout",
          "text": [
            "String before: hello world \n",
            "String after: HellO WorlD\n"
          ]
        }
      ]
    }
  ]
}